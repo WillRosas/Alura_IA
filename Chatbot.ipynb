{
  "nbformat": 4,
  "nbformat_minor": 0,
  "metadata": {
    "colab": {
      "provenance": [],
      "authorship_tag": "ABX9TyPwT3zCU6lguvVZPaugbsL/",
      "include_colab_link": true
    },
    "kernelspec": {
      "name": "python3",
      "display_name": "Python 3"
    },
    "language_info": {
      "name": "python"
    }
  },
  "cells": [
    {
      "cell_type": "markdown",
      "metadata": {
        "id": "view-in-github",
        "colab_type": "text"
      },
      "source": [
        "<a href=\"https://colab.research.google.com/github/WillRosas/Alura_IA/blob/main/Chatbot.ipynb\" target=\"_parent\"><img src=\"https://colab.research.google.com/assets/colab-badge.svg\" alt=\"Open In Colab\"/></a>"
      ]
    },
    {
      "cell_type": "markdown",
      "source": [
        "Instalando d SDK do Google"
      ],
      "metadata": {
        "id": "azkXQ2rYMbTp"
      }
    },
    {
      "cell_type": "code",
      "execution_count": 1,
      "metadata": {
        "id": "WMpwGuu5JK-S"
      },
      "outputs": [],
      "source": [
        "!pip install -q -U google-generativeai"
      ]
    },
    {
      "cell_type": "code",
      "source": [
        "# Import the Python SDK\n",
        "import google.generativeai as genai\n",
        "from google.colab import userdata\n",
        "\n",
        "api_key = userdata.get('SECRET_KEY')\n",
        "\n",
        "\n",
        "genai.configure(api_key=api_key)"
      ],
      "metadata": {
        "id": "jQZf9x0jMmta"
      },
      "execution_count": 2,
      "outputs": []
    },
    {
      "cell_type": "markdown",
      "source": [
        "Listar os modelos disponíveis"
      ],
      "metadata": {
        "id": "jA9ok5tDM0g0"
      }
    },
    {
      "cell_type": "code",
      "source": [
        "for m in genai.list_models():\n",
        "  if 'generateContent' in m.supported_generation_methods:\n",
        "    print(m.name)"
      ],
      "metadata": {
        "colab": {
          "base_uri": "https://localhost:8080/",
          "height": 139
        },
        "id": "3gZThmR0MuJE",
        "outputId": "5ee0a1b8-5372-4863-d094-82dd9805796d"
      },
      "execution_count": 4,
      "outputs": [
        {
          "output_type": "stream",
          "name": "stdout",
          "text": [
            "models/gemini-1.0-pro\n",
            "models/gemini-1.0-pro-001\n",
            "models/gemini-1.0-pro-latest\n",
            "models/gemini-1.0-pro-vision-latest\n",
            "models/gemini-1.5-pro-latest\n",
            "models/gemini-pro\n",
            "models/gemini-pro-vision\n"
          ]
        }
      ]
    },
    {
      "cell_type": "markdown",
      "source": [
        "Configurações de geração e segurança"
      ],
      "metadata": {
        "id": "c2jQN35mQ1PY"
      }
    },
    {
      "cell_type": "code",
      "source": [
        "generation_config={\n",
        "    \"candidate_count\":1,\n",
        "    \"temperature\": 0.5,\n",
        "}"
      ],
      "metadata": {
        "id": "NaBQE53DPHEo"
      },
      "execution_count": 5,
      "outputs": []
    },
    {
      "cell_type": "code",
      "source": [
        "safety_setting={\n",
        "    \"HARASSMENT\":\"BLOCK_NONE\",\n",
        "    \"HATE\":\"BLOCK_NONE\",\n",
        "    \"SEXUAL\":\"BLOCK_NONE\",\n",
        "    \"DANGEROUS\":\"BLOCK_NONE\",\n",
        "\n",
        "}"
      ],
      "metadata": {
        "id": "Ls8zUCjcPmXj"
      },
      "execution_count": 6,
      "outputs": []
    },
    {
      "cell_type": "markdown",
      "source": [
        "inicializando o modelo"
      ],
      "metadata": {
        "id": "4hCXmdwJQ-Xr"
      }
    },
    {
      "cell_type": "code",
      "source": [
        "model = genai.GenerativeModel(model_name=\"gemini-1.0-pro\",\n",
        "                              generation_config=generation_config,\n",
        "                              safety_settings=safety_setting)"
      ],
      "metadata": {
        "id": "nFSf_yvPQ8hc"
      },
      "execution_count": 10,
      "outputs": []
    },
    {
      "cell_type": "code",
      "source": [
        "response = model.generate_content(\"vamnos aprender conteúdo sobre IA. De-me sugestões\")\n",
        "print(response.text)"
      ],
      "metadata": {
        "colab": {
          "base_uri": "https://localhost:8080/",
          "height": 816
        },
        "id": "SrWYdA8xRoxX",
        "outputId": "65b98401-c32d-4738-a017-74d857bd6b23"
      },
      "execution_count": 11,
      "outputs": [
        {
          "output_type": "stream",
          "name": "stdout",
          "text": [
            "**Cursos Online:**\n",
            "\n",
            "* **Coursera:**\n",
            "    * Aprendizado de Máquina\n",
            "    * Inteligência Artificial\n",
            "    * Processamento de Linguagem Natural\n",
            "* **edX:**\n",
            "    * Inteligência Artificial (MIT)\n",
            "    * Aprendizado de Máquina (Microsoft)\n",
            "    * Visão Computacional (Caltech)\n",
            "* **Udemy:**\n",
            "    * Curso Completo de Inteligência Artificial\n",
            "    * Aprendizado de Máquina com Python\n",
            "    * Visão Computacional com OpenCV\n",
            "\n",
            "**Livros:**\n",
            "\n",
            "* **Inteligência Artificial: Uma Abordagem Moderna** (Stuart Russell e Peter Norvig)\n",
            "* **Aprendizado de Máquina** (Tom Mitchell)\n",
            "* **Visão Computacional** (David Forsyth e Jean Ponce)\n",
            "* **Processamento de Linguagem Natural** (Christopher Manning e Hinrich Schütze)\n",
            "* **Inteligência Artificial para Todos** (Andrew Ng)\n",
            "\n",
            "**Recursos Gratuitos:**\n",
            "\n",
            "* **Google AI:** Documentação, tutoriais e ferramentas\n",
            "* **Microsoft AI:** Recursos, artigos e demonstrações\n",
            "* **IBM Watson:** Documentação, APIs e exemplos\n",
            "* **OpenAI:** Pesquisa, ferramentas e recursos\n",
            "* **Kaggle:** Comunidade e competições de aprendizado de máquina\n",
            "\n",
            "**Podcasts:**\n",
            "\n",
            "* **This Week in Machine Learning & AI**\n",
            "* **The AI Podcast**\n",
            "* **Lex Fridman Podcast**\n",
            "* **O'Reilly AI Podcast**\n",
            "* **TWIML AI Podcast**\n",
            "\n",
            "**Revistas e Artigos Científicos:**\n",
            "\n",
            "* **Nature Machine Intelligence**\n",
            "* **Journal of Machine Learning Research**\n",
            "* **IEEE Transactions on Artificial Intelligence**\n",
            "* **Artificial Intelligence**\n",
            "* **ACM Transactions on Intelligent Systems and Technology**\n"
          ]
        }
      ]
    },
    {
      "cell_type": "code",
      "source": [
        "chat = model.start_chat(history=[])"
      ],
      "metadata": {
        "id": "6Q4vsHTdSPul"
      },
      "execution_count": 12,
      "outputs": []
    },
    {
      "cell_type": "code",
      "source": [
        "prompt = input(\"Esperando prompt: \")\n",
        "\n",
        "while prompt != \"fim\":\n",
        "  response = chat.send_message(prompt)\n",
        "  print(\"resposta: \", response.text, \"\\n\")\n",
        "  prompt = input(\"Esperando prompt: \")\n"
      ],
      "metadata": {
        "colab": {
          "base_uri": "https://localhost:8080/",
          "height": 243
        },
        "id": "moZy_aA2Sjhx",
        "outputId": "ac63c81e-682a-49ca-b762-fee612479e77"
      },
      "execution_count": 14,
      "outputs": [
        {
          "name": "stdout",
          "output_type": "stream",
          "text": [
            "Esperando promptQual s cspital da espanha?\n",
            "resposta:  * Hospital Universitari Vall d'Hebron (Barcelona)\n",
            "* Hospital Universitari de la Fe (Valência)\n",
            "* Hospital Universitari Gregorio Marañón (Madrid)\n",
            "* Hospital Universitari La Paz (Madrid)\n",
            "* Hospital Universitari Clínic (Barcelona)\n",
            "* Hospital Universitari Puerta de Hierro (Madrid)\n",
            "* Hospital Universitari Son Espases (Palma de Maiorca)\n",
            "* Hospital Universitari Virgen del Rocío (Sevilha)\n",
            "* Hospital Universitari y Politécnico La Fe (Valência)\n",
            "* Hospital Universitari 12 de Octubre (Madrid) \n",
            "\n",
            "Esperando promptfim\n"
          ]
        }
      ]
    },
    {
      "cell_type": "code",
      "source": [],
      "metadata": {
        "id": "QBSrBeQLS89o"
      },
      "execution_count": null,
      "outputs": []
    }
  ]
}